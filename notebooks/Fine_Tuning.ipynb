{
  "cells": [
    {
      "cell_type": "markdown",
      "metadata": {
        "id": "vCKVmb32RehK"
      },
      "source": [
        "#🦕🦾 **FINE-TUNING GROUNDING DINO 🦾🦕**"
      ]
    },
    {
      "cell_type": "markdown",
      "metadata": {
        "id": "b-oKwllfHgoA"
      },
      "source": [
        "##### *Grounding DINO model information and notebook explanation*"
      ]
    },
    {
      "cell_type": "markdown",
      "metadata": {
        "id": "T-fH4GbHD6Fv"
      },
      "source": [
        "**Grounding DINO model information**\n",
        "*   Transformer based object detection model [DETR model]\n",
        "*   Open-Set object detection\n",
        "*   Built by extending a closed-set detector DINO by performing vision-language modality fusion at multiple fases:\n",
        "    *    Feature enhancer\n",
        "    *    Langauage-guided query selection module\n",
        "    *    Cross-modality decoder\n",
        "*   Dual-encoder-single-decoder architecture\n",
        "\n",
        "Loss functions:\n",
        "*   BBOX:\n",
        "    *   L1\n",
        "    *   GIOU\n",
        "*   Classification:\n",
        "    *   Focal loss\n",
        "\n",
        "Pre-training hyper paramters of the Grounding DINO (GD) paper:\n",
        "\n",
        "*   optimizer AdamW\n",
        "*   batch size 32\n",
        "*   lr 1e-4\n",
        "*   lr of image backbone 1e-5\n",
        "*   lr of text backbone 1e-5\n",
        "*   weight decay 0.0001\n",
        "*   clip max norm 0.1\n",
        "*   number of encoder layers 6\n",
        "*   number of decoder layers 6\n",
        "*   dim feedforward 2048\n",
        "*   hidden dim 256\n",
        "*   dropout 0.0\n",
        "*   nheads 8\n",
        "*   number of queries 900\n",
        "*   set cost class 1.0\n",
        "*   set cost bbox 5.0\n",
        "*   set cost giou 2.0\n",
        "*   ce loss coef 2.0\n",
        "*   bbox loss coef 5.0\n",
        "*   giou loss coef 2.0\n",
        "\n",
        "**Notebook explanation**\n",
        "\n",
        "This notebook can be used to fine-tune GD on a custom dataset. This happens in the following steps: load GD, load custom data, define the train and validation functions, load GD in a pytorch class, run the training and validation functions, save the new parameters to a .pth file, run a test on the test set of the dataset, run some manual tests."
      ]
    },
    {
      "cell_type": "markdown",
      "metadata": {
        "id": "6-onp0zmeW2R"
      },
      "source": [
        "### Imports and configuration"
      ]
    },
    {
      "cell_type": "markdown",
      "source": [
        "This block is used for all the imports of the notebook, connect with google drive for the data, set the random seed and check for GPUs."
      ],
      "metadata": {
        "id": "nXwCeG7e8kfb"
      }
    },
    {
      "cell_type": "code",
      "execution_count": null,
      "metadata": {
        "id": "vQQI2JK-qooE"
      },
      "outputs": [],
      "source": [
        "import warnings\n",
        "warnings.filterwarnings('ignore')"
      ]
    },
    {
      "cell_type": "code",
      "execution_count": null,
      "metadata": {
        "colab": {
          "base_uri": "https://localhost:8080/"
        },
        "id": "fClyB0MARsWl",
        "outputId": "30b3b093-74ad-46fd-e9bd-9f901c6b63b1"
      },
      "outputs": [
        {
          "output_type": "stream",
          "name": "stdout",
          "text": [
            "Mounted at /content/drive\n",
            "Collecting supervision\n",
            "  Downloading supervision-0.18.0-py3-none-any.whl (86 kB)\n",
            "\u001b[2K     \u001b[90m━━━━━━━━━━━━━━━━━━━━━━━━━━━━━━━━━━━━━━━━\u001b[0m \u001b[32m86.7/86.7 kB\u001b[0m \u001b[31m2.7 MB/s\u001b[0m eta \u001b[36m0:00:00\u001b[0m\n",
            "\u001b[?25hCollecting fastapi\n",
            "  Downloading fastapi-0.109.0-py3-none-any.whl (92 kB)\n",
            "\u001b[2K     \u001b[90m━━━━━━━━━━━━━━━━━━━━━━━━━━━━━━━━━━━━━━━━\u001b[0m \u001b[32m92.0/92.0 kB\u001b[0m \u001b[31m7.3 MB/s\u001b[0m eta \u001b[36m0:00:00\u001b[0m\n",
            "\u001b[?25hCollecting kaleido\n",
            "  Downloading kaleido-0.2.1-py2.py3-none-manylinux1_x86_64.whl (79.9 MB)\n",
            "\u001b[2K     \u001b[90m━━━━━━━━━━━━━━━━━━━━━━━━━━━━━━━━━━━━━━━━\u001b[0m \u001b[32m79.9/79.9 MB\u001b[0m \u001b[31m10.2 MB/s\u001b[0m eta \u001b[36m0:00:00\u001b[0m\n",
            "\u001b[?25hCollecting python-multipart\n",
            "  Downloading python_multipart-0.0.6-py3-none-any.whl (45 kB)\n",
            "\u001b[2K     \u001b[90m━━━━━━━━━━━━━━━━━━━━━━━━━━━━━━━━━━━━━━━━\u001b[0m \u001b[32m45.7/45.7 kB\u001b[0m \u001b[31m5.5 MB/s\u001b[0m eta \u001b[36m0:00:00\u001b[0m\n",
            "\u001b[?25hCollecting uvicorn\n",
            "  Downloading uvicorn-0.27.0-py3-none-any.whl (60 kB)\n",
            "\u001b[2K     \u001b[90m━━━━━━━━━━━━━━━━━━━━━━━━━━━━━━━━━━━━━━━━\u001b[0m \u001b[32m60.6/60.6 kB\u001b[0m \u001b[31m8.4 MB/s\u001b[0m eta \u001b[36m0:00:00\u001b[0m\n",
            "\u001b[?25hRequirement already satisfied: defusedxml<0.8.0,>=0.7.1 in /usr/local/lib/python3.10/dist-packages (from supervision) (0.7.1)\n",
            "Requirement already satisfied: matplotlib>=3.6.0 in /usr/local/lib/python3.10/dist-packages (from supervision) (3.7.1)\n",
            "Requirement already satisfied: numpy>=1.21.2 in /usr/local/lib/python3.10/dist-packages (from supervision) (1.23.5)\n",
            "Requirement already satisfied: opencv-python-headless>=4.5.5.64 in /usr/local/lib/python3.10/dist-packages (from supervision) (4.9.0.80)\n",
            "Requirement already satisfied: pyyaml>=5.3 in /usr/local/lib/python3.10/dist-packages (from supervision) (6.0.1)\n",
            "Requirement already satisfied: scipy<2.0.0,>=1.10.0 in /usr/local/lib/python3.10/dist-packages (from supervision) (1.11.4)\n",
            "Requirement already satisfied: pydantic!=1.8,!=1.8.1,!=2.0.0,!=2.0.1,!=2.1.0,<3.0.0,>=1.7.4 in /usr/local/lib/python3.10/dist-packages (from fastapi) (1.10.14)\n",
            "Collecting starlette<0.36.0,>=0.35.0 (from fastapi)\n",
            "  Downloading starlette-0.35.1-py3-none-any.whl (71 kB)\n",
            "\u001b[2K     \u001b[90m━━━━━━━━━━━━━━━━━━━━━━━━━━━━━━━━━━━━━━━━\u001b[0m \u001b[32m71.1/71.1 kB\u001b[0m \u001b[31m9.8 MB/s\u001b[0m eta \u001b[36m0:00:00\u001b[0m\n",
            "\u001b[?25hCollecting typing-extensions>=4.8.0 (from fastapi)\n",
            "  Downloading typing_extensions-4.9.0-py3-none-any.whl (32 kB)\n",
            "Requirement already satisfied: click>=7.0 in /usr/local/lib/python3.10/dist-packages (from uvicorn) (8.1.7)\n",
            "Collecting h11>=0.8 (from uvicorn)\n",
            "  Downloading h11-0.14.0-py3-none-any.whl (58 kB)\n",
            "\u001b[2K     \u001b[90m━━━━━━━━━━━━━━━━━━━━━━━━━━━━━━━━━━━━━━━━\u001b[0m \u001b[32m58.3/58.3 kB\u001b[0m \u001b[31m8.5 MB/s\u001b[0m eta \u001b[36m0:00:00\u001b[0m\n",
            "\u001b[?25hRequirement already satisfied: contourpy>=1.0.1 in /usr/local/lib/python3.10/dist-packages (from matplotlib>=3.6.0->supervision) (1.2.0)\n",
            "Requirement already satisfied: cycler>=0.10 in /usr/local/lib/python3.10/dist-packages (from matplotlib>=3.6.0->supervision) (0.12.1)\n",
            "Requirement already satisfied: fonttools>=4.22.0 in /usr/local/lib/python3.10/dist-packages (from matplotlib>=3.6.0->supervision) (4.47.2)\n",
            "Requirement already satisfied: kiwisolver>=1.0.1 in /usr/local/lib/python3.10/dist-packages (from matplotlib>=3.6.0->supervision) (1.4.5)\n",
            "Requirement already satisfied: packaging>=20.0 in /usr/local/lib/python3.10/dist-packages (from matplotlib>=3.6.0->supervision) (23.2)\n",
            "Requirement already satisfied: pillow>=6.2.0 in /usr/local/lib/python3.10/dist-packages (from matplotlib>=3.6.0->supervision) (9.4.0)\n",
            "Requirement already satisfied: pyparsing>=2.3.1 in /usr/local/lib/python3.10/dist-packages (from matplotlib>=3.6.0->supervision) (3.1.1)\n",
            "Requirement already satisfied: python-dateutil>=2.7 in /usr/local/lib/python3.10/dist-packages (from matplotlib>=3.6.0->supervision) (2.8.2)\n",
            "Requirement already satisfied: anyio<5,>=3.4.0 in /usr/local/lib/python3.10/dist-packages (from starlette<0.36.0,>=0.35.0->fastapi) (3.7.1)\n",
            "Requirement already satisfied: idna>=2.8 in /usr/local/lib/python3.10/dist-packages (from anyio<5,>=3.4.0->starlette<0.36.0,>=0.35.0->fastapi) (3.6)\n",
            "Requirement already satisfied: sniffio>=1.1 in /usr/local/lib/python3.10/dist-packages (from anyio<5,>=3.4.0->starlette<0.36.0,>=0.35.0->fastapi) (1.3.0)\n",
            "Requirement already satisfied: exceptiongroup in /usr/local/lib/python3.10/dist-packages (from anyio<5,>=3.4.0->starlette<0.36.0,>=0.35.0->fastapi) (1.2.0)\n",
            "Requirement already satisfied: six>=1.5 in /usr/local/lib/python3.10/dist-packages (from python-dateutil>=2.7->matplotlib>=3.6.0->supervision) (1.16.0)\n",
            "Installing collected packages: kaleido, typing-extensions, python-multipart, h11, uvicorn, starlette, supervision, fastapi\n",
            "  Attempting uninstall: typing-extensions\n",
            "    Found existing installation: typing_extensions 4.5.0\n",
            "    Uninstalling typing_extensions-4.5.0:\n",
            "      Successfully uninstalled typing_extensions-4.5.0\n",
            "\u001b[31mERROR: pip's dependency resolver does not currently take into account all the packages that are installed. This behaviour is the source of the following dependency conflicts.\n",
            "tensorflow-probability 0.22.0 requires typing-extensions<4.6.0, but you have typing-extensions 4.9.0 which is incompatible.\u001b[0m\u001b[31m\n",
            "\u001b[0mSuccessfully installed fastapi-0.109.0 h11-0.14.0 kaleido-0.2.1 python-multipart-0.0.6 starlette-0.35.1 supervision-0.18.0 typing-extensions-4.9.0 uvicorn-0.27.0\n",
            "/content\n"
          ]
        }
      ],
      "source": [
        "from google.colab import drive, files\n",
        "\n",
        "drive.mount('/content/drive')\n",
        "\n",
        "import locale\n",
        "locale.getpreferredencoding = lambda: \"UTF-8\"\n",
        "\n",
        "!pip install supervision fastapi kaleido python-multipart uvicorn\n",
        "\n",
        "import numpy as np\n",
        "import os, cv2, bisect, random\n",
        "import supervision as sv\n",
        "\n",
        "import torch\n",
        "import torch.nn as nn\n",
        "from torch.utils.data import DataLoader\n",
        "from torchsummary import summary\n",
        "from torchvision import transforms\n",
        "from torchvision.ops import box_convert\n",
        "from torchvision.ops.boxes import _box_inter_union\n",
        "from torchvision.ops.focal_loss import sigmoid_focal_loss\n",
        "from torchvision.ops import generalized_box_iou_loss\n",
        "import torch.optim as optim\n",
        "import torch.nn.functional as F\n",
        "\n",
        "from PIL import Image\n",
        "\n",
        "import matplotlib.pyplot as plt\n",
        "\n",
        "random_seed = 42\n",
        "torch.manual_seed(random_seed)\n",
        "\n",
        "device = torch.device(\"cuda:0\" if torch.cuda.is_available() else \"cpu\")\n",
        "\n",
        "HOME = os.getcwd()\n",
        "print(HOME)"
      ]
    },
    {
      "cell_type": "markdown",
      "metadata": {
        "id": "MT1ZWFrXRuWt"
      },
      "source": [
        "## **Grounding DINO Setup**"
      ]
    },
    {
      "cell_type": "markdown",
      "metadata": {
        "id": "puvr4k4LSKGa"
      },
      "source": [
        "This block is used to download the Grounding DINO model and weights from Github. After the download necessary functions from GD are imported."
      ]
    },
    {
      "cell_type": "code",
      "execution_count": null,
      "metadata": {
        "colab": {
          "base_uri": "https://localhost:8080/"
        },
        "id": "_xdjawtLRzlB",
        "outputId": "b30b7488-78c0-49c8-a818-e141b71d8e05"
      },
      "outputs": [
        {
          "output_type": "stream",
          "name": "stdout",
          "text": [
            "Downloading Grounding DINO...\n",
            "/content\n",
            "Cloning into 'GroundingDINO'...\n",
            "remote: Enumerating objects: 421, done.\u001b[K\n",
            "remote: Counting objects: 100% (189/189), done.\u001b[K\n",
            "remote: Compressing objects: 100% (63/63), done.\u001b[K\n",
            "remote: Total 421 (delta 144), reused 126 (delta 126), pack-reused 232\u001b[K\n",
            "Receiving objects: 100% (421/421), 12.85 MiB | 9.76 MiB/s, done.\n",
            "Resolving deltas: 100% (216/216), done.\n",
            "/content/GroundingDINO\n",
            "  Preparing metadata (setup.py) ... \u001b[?25l\u001b[?25hdone\n",
            "\u001b[2K     \u001b[90m━━━━━━━━━━━━━━━━━━━━━━━━━━━━━━━━━━━━━━━━\u001b[0m \u001b[32m254.7/254.7 kB\u001b[0m \u001b[31m3.9 MB/s\u001b[0m eta \u001b[36m0:00:00\u001b[0m\n",
            "\u001b[2K     \u001b[90m━━━━━━━━━━━━━━━━━━━━━━━━━━━━━━━━━━━━━━━━\u001b[0m \u001b[32m2.2/2.2 MB\u001b[0m \u001b[31m17.0 MB/s\u001b[0m eta \u001b[36m0:00:00\u001b[0m\n",
            "\u001b[2K     \u001b[90m━━━━━━━━━━━━━━━━━━━━━━━━━━━━━━━━━━━━━━━━\u001b[0m \u001b[32m70.0/70.0 kB\u001b[0m \u001b[31m2.2 MB/s\u001b[0m eta \u001b[36m0:00:00\u001b[0m\n",
            "\u001b[2K     \u001b[90m━━━━━━━━━━━━━━━━━━━━━━━━━━━━━━━━━━━━━━━━\u001b[0m \u001b[32m158.3/158.3 kB\u001b[0m \u001b[31m7.1 MB/s\u001b[0m eta \u001b[36m0:00:00\u001b[0m\n",
            "\u001b[2K     \u001b[90m━━━━━━━━━━━━━━━━━━━━━━━━━━━━━━━━━━━━━━━━\u001b[0m \u001b[32m178.7/178.7 kB\u001b[0m \u001b[31m12.5 MB/s\u001b[0m eta \u001b[36m0:00:00\u001b[0m\n",
            "\u001b[2K     \u001b[90m━━━━━━━━━━━━━━━━━━━━━━━━━━━━━━━━━━━━━━━━\u001b[0m \u001b[32m58.8/58.8 kB\u001b[0m \u001b[31m2.7 MB/s\u001b[0m eta \u001b[36m0:00:00\u001b[0m\n",
            "\u001b[2K     \u001b[90m━━━━━━━━━━━━━━━━━━━━━━━━━━━━━━━━━━━━━━━━\u001b[0m \u001b[32m49.1/49.1 MB\u001b[0m \u001b[31m11.9 MB/s\u001b[0m eta \u001b[36m0:00:00\u001b[0m\n",
            "\u001b[2K     \u001b[90m━━━━━━━━━━━━━━━━━━━━━━━━━━━━━━━━━━━━━━━━\u001b[0m \u001b[32m54.5/54.5 kB\u001b[0m \u001b[31m7.1 MB/s\u001b[0m eta \u001b[36m0:00:00\u001b[0m\n",
            "\u001b[?25h/content/GroundingDINO/groundingdino/config/GroundingDINO_SwinT_OGC.py ; exist: True\n",
            "/content\n",
            "/content/weights\n",
            "/content/weights/groundingdino_swint_ogc.pth ; exist: True\n",
            "/content/GroundingDINO\n"
          ]
        }
      ],
      "source": [
        "if not os.path.exists('/content/GroundingDINO'):\n",
        "    print('Downloading Grounding DINO...')\n",
        "\n",
        "    %cd {HOME}\n",
        "    !git clone https://github.com/IDEA-Research/GroundingDINO.git\n",
        "    %cd {HOME}/GroundingDINO\n",
        "    !pip install -q -e .\n",
        "    !pip install -q roboflow\n",
        "\n",
        "    CONFIG_PATH = os.path.join(HOME, \"GroundingDINO/groundingdino/config/GroundingDINO_SwinT_OGC.py\")\n",
        "    print(CONFIG_PATH, \"; exist:\", os.path.isfile(CONFIG_PATH))\n",
        "\n",
        "    %cd {HOME}\n",
        "    !mkdir {HOME}/weights\n",
        "    %cd {HOME}/weights\n",
        "\n",
        "    !wget -q https://github.com/IDEA-Research/GroundingDINO/releases/download/v0.1.0-alpha/groundingdino_swint_ogc.pth\n",
        "\n",
        "    WEIGHTS_NAME = \"groundingdino_swint_ogc.pth\"\n",
        "    WEIGHTS_PATH = os.path.join(HOME, \"weights\", WEIGHTS_NAME)\n",
        "    print(WEIGHTS_PATH, \"; exist:\", os.path.isfile(WEIGHTS_PATH))\n",
        "else:\n",
        "    print('Grounding DINO is already installed')\n",
        "\n",
        "\n",
        "%cd {HOME}/GroundingDINO\n",
        "from groundingdino.util.inference import load_model, load_image, predict, annotate, Model\n",
        "from groundingdino.util.utils import get_phrases_from_posmap"
      ]
    },
    {
      "cell_type": "markdown",
      "metadata": {
        "id": "-kJt4Uk1SEVU"
      },
      "source": [
        "## **Data Preprocessing and Loading**"
      ]
    },
    {
      "cell_type": "markdown",
      "source": [
        "This code block is used to load the custom dataset into a dictionary. It assumes that the dataset is already split in into train, validation and test sets. With the folowing directory setup:\n",
        "* data directory\n",
        "    * train\n",
        "        * images\n",
        "        * labels\n",
        "    * valid\n",
        "        * images\n",
        "        * labels\n",
        "    * test\n",
        "        * images\n",
        "        * labels\n",
        "\n",
        "All the classes of the dataset should be in a single 'classes' list as strings (classes = ['dog', 'cat', ...]). All the labels files should have the folowing format:\n",
        "\n",
        "class_integer_1 cx_1 cy_1 w_1 h_1\n",
        "\n",
        "class_integer_2 cx_2 cy_2 w_2 h_2\n",
        "\n",
        "An example:\n",
        "\n",
        "89 0.23317307692307693 0.4951923076923077 0.4567307692307692 0.7668269230769231\n",
        "\n",
        "55 0.7620192307692307 0.5024038461538461 0.4230769230769231 0.7427884615384616\n",
        "\n",
        "With the first integer being the index of the class in the class list and the following 4 digits\n",
        "the bounding box coordinates in cxcywh format for each class in the image.\n",
        "\n",
        "The data is loaded into a dictionary with the keys being train, validation and test and the values of the keys are a list. Each item in the list refers to an image. Each item is a tuple consisting of the image as tensor (converted using the load_image function from GD), the class labels as integers and the bounding box coordinates in cxcywh format.\n",
        "\n",
        "On line 10 the amount of batches loaded into the dictionary can be defined. Since it can cost a lot of RAM and training takes much longer for more batches it can be usefull to playaround with a smaller amount of batches."
      ],
      "metadata": {
        "id": "u2nnc4ns-P6V"
      }
    },
    {
      "cell_type": "code",
      "execution_count": null,
      "metadata": {
        "id": "tfgr36hCU2Sc"
      },
      "outputs": [],
      "source": [
        "classes = ['acorn', 'axe', 'backpack', 'badger', 'bag', 'barrel', 'basket', 'bear', 'bed', 'bee', 'bell', 'bench', 'bird', 'birdcage', 'boar', 'boat', 'book', 'bottle', 'bow', 'bowl', 'box', 'bridge', 'broom', 'brush', 'bucket', 'building', 'butterfly', 'camel', 'campfire', 'candle', 'cane', 'cannon', 'car', 'cat', 'cello', 'chair', 'clock', 'couch', 'cow', 'cradle', 'crown', 'cup', 'curtain', 'deer', 'diningTable', 'dog', 'doghouse', 'donkey', 'door', 'dragon', 'drum', 'egg', 'elephant', 'ermine', 'feather', 'female', 'fence', 'fireplace', 'fish', 'fishingRod', 'flag', 'flower', 'flute', 'fox', 'frog', 'glasses', 'globe', 'goat', 'gun', 'hammer', 'hat', 'hedgehog', 'helmet', 'horse', 'hotAirBalloon', 'inkpot', 'insect', 'jackal', 'jar', 'jug', 'kettle', 'kite', 'knife', 'ladder', 'lamp', 'lifebuoy', 'lion', 'lizard', 'lobster', 'male', 'map', 'marmot', 'melon', 'monkey', 'moon', 'musicSheet', 'nest', 'net', 'painting', 'paintingStand', 'pan', 'pear', 'pen', 'penguin', 'piano', 'pickaxe', 'pig', 'pineapple', 'pipe', 'plant', 'plate', 'pot', 'pottedPlant', 'rabbit', 'rake', 'rat', 'rhino', 'sausage', 'saw', 'scale', 'scissors', 'scorpion', 'seal', 'shark', 'sheep', 'shield', 'shovel', 'sieve', 'skate', 'snail', 'snake', 'spear', 'spoon', 'sportsBall', 'squirrel', 'star', 'stool', 'stroller', 'suitcase', 'sun', 'sunflower', 'sword', 'teachingBoard', 'teapot', 'tent', 'tie', 'tiger', 'train', 'tree', 'trumpet', 'tub', 'turtle', 'umbrella', 'vase', 'violin', 'wagon', 'walnut', 'weight', 'whip', 'windmill', 'window', 'wineGlass', 'wolf', 'zebra']\n",
        "\n",
        "# ------------------------------------------------------------------------------------\n",
        "# Change data_directory and amount_of_batches\n",
        "\n",
        "data_directory = '/content/drive/MyDrive/Delft/capstone data/1.0_Children_Books/'\n",
        "\n",
        "amount_of_batches = 2\n",
        "\n",
        "# ------------------------------------------------------------------------------------\n",
        "\n",
        "datasets = ['train', 'valid', 'test']\n",
        "data = {}\n",
        "batch_size = 32\n",
        "\n",
        "n = batch_size * amount_of_batches\n",
        "\n",
        "for dataset in datasets:\n",
        "    directory_images = data_directory+dataset+'/images'\n",
        "    directory_labels = data_directory+dataset+'/labels'\n",
        "\n",
        "    files_images = os.listdir(directory_images)\n",
        "    files_labels = os.listdir(directory_labels)\n",
        "\n",
        "    data[dataset] = []\n",
        "\n",
        "    if dataset == 'valid':\n",
        "        n = int(n/4)\n",
        "        if n == 0:\n",
        "            n = 1\n",
        "\n",
        "    for idx, label in enumerate(files_labels[:n]):\n",
        "        img_label = label[:-4]\n",
        "        img = directory_images+'/'+img_label+'.jpg'\n",
        "        _, img = load_image(img)\n",
        "\n",
        "        f = open(directory_labels+'/'+label)\n",
        "        f = [i.split(' ') for i in  f.read().split('\\n')]\n",
        "        f = [[float(j) for j in i] for i in f]\n",
        "\n",
        "        y_labels_int = torch.LongTensor([i[0] for i in f])\n",
        "        y_bboxes = torch.tensor([i[1:] for i in f])\n",
        "\n",
        "        data[dataset].append((img, y_labels_int, y_bboxes))\n",
        "\n",
        "random.shuffle(data['train'])\n",
        "random.shuffle(data['valid'])\n",
        "random.shuffle(data['test'])"
      ]
    },
    {
      "cell_type": "markdown",
      "metadata": {
        "id": "ozB_9_8sSS-j"
      },
      "source": [
        "## **Train, Validation and Test Functions**\n"
      ]
    },
    {
      "cell_type": "markdown",
      "source": [
        "This block contains all the necessary functions for training (fine-tuning) and validation. First the train helper functions are defined, which are used in the main train() and val() functions. Under the validation helper functions two functions are defined to help with evaluating the model. The functions are later explained in more detail."
      ],
      "metadata": {
        "id": "sCr5AmfvAuad"
      }
    },
    {
      "cell_type": "markdown",
      "metadata": {
        "id": "z20xjZ1yTc-L"
      },
      "source": [
        "### Train helper functions"
      ]
    },
    {
      "cell_type": "markdown",
      "source": [
        "Here all the following train helper functions are defined:\n",
        "* process_data_loader_data\n",
        "* calc_IoU\n",
        "* FocalLoss\n",
        "* phrases2classes\n",
        "* perform_forward_pass\n",
        "* link_predictions_to_true_labels\n",
        "* calculate_loss\n",
        "* calc_batch_acc\n",
        "* preprocess_caption\n",
        "\n",
        "Each function is described in more detail in its doctstring."
      ],
      "metadata": {
        "id": "h9RlhMJaBhBN"
      }
    },
    {
      "cell_type": "code",
      "execution_count": null,
      "metadata": {
        "id": "wtDYMQRIThzK"
      },
      "outputs": [],
      "source": [
        "L1_loss = nn.L1Loss()\n",
        "crossentropy_loss = nn.CrossEntropyLoss()\n",
        "\n",
        "def process_data(\n",
        "    d: tuple[list[torch.tensor], list[torch.LongTensor], list[torch.tensor]],\n",
        "    log: bool\n",
        ") -> tuple[torch.tensor, torch.LongTensor, list, torch.tensor]:\n",
        "    \"\"\"\n",
        "    Function to preprocess the data from the dataloader.\n",
        "    Convert the true bboxes from cxcywh to xyxy.\n",
        "    Create a labels string variant from the labels integers list.\n",
        "\n",
        "    Args:\n",
        "        - d: data (images as tensors, labels as integers, bboxes in cxcywh)\n",
        "        - log: if the prints will be used\n",
        "\n",
        "    Returns:\n",
        "        - (images as tensors, labels as integers, labels as stings, bboxes in xyxy)\n",
        "    \"\"\"\n",
        "\n",
        "    image_tensor, y_labels_int, y_bboxes_xywh = d\n",
        "\n",
        "    y_bboxes_xyxy = box_convert(boxes=y_bboxes_xywh, in_fmt=\"cxcywh\", out_fmt=\"xyxy\")\n",
        "    y_labels_str = [classes[i] for i in y_labels_int]\n",
        "\n",
        "    image_tensor = image_tensor.to(device)\n",
        "\n",
        "    if log:\n",
        "        print('y_labels_str = {}'.format(y_labels_str))\n",
        "        print('y_bboxes_xyxy = {}'.format(y_bboxes_xyxy))\n",
        "\n",
        "\n",
        "    return (\n",
        "        image_tensor,\n",
        "        y_labels_int,\n",
        "        y_labels_str,\n",
        "        y_bboxes_xyxy\n",
        "    )\n",
        "\n",
        "def calc_IoU(boxA: torch.tensor, boxB: torch.tensor) -> float:\n",
        "    \"\"\"\n",
        "    Function to calculate the IoU of two bounding boxes.\n",
        "\n",
        "    Args:\n",
        "        - bbox 1\n",
        "        - bbox 2\n",
        "\n",
        "    Returns:\n",
        "        - IoU\n",
        "    \"\"\"\n",
        "\n",
        "    xA = max(boxA[0], boxB[0])\n",
        "    yA = max(boxA[1], boxB[1])\n",
        "    xB = min(boxA[2], boxB[2])\n",
        "    yB = min(boxA[3], boxB[3])\n",
        "\n",
        "    interArea = max(0, xB - xA + 1) * max(0, yB - yA + 1)\n",
        "\n",
        "    boxAArea = (boxA[2] - boxA[0] + 1) * (boxA[3] - boxA[1] + 1)\n",
        "    boxBArea = (boxB[2] - boxB[0] + 1) * (boxB[3] - boxB[1] + 1)\n",
        "\n",
        "    iou = interArea / float(boxAArea + boxBArea - interArea)\n",
        "\n",
        "    return iou\n",
        "\n",
        "class FocalLoss(nn.Module):\n",
        "    def __init__(self, alpha=1, gamma=2, logits=True, reduce=True):\n",
        "        super(FocalLoss, self).__init__()\n",
        "        self.alpha = alpha\n",
        "        self.gamma = gamma\n",
        "        self.logits = logits\n",
        "        self.reduce = reduce\n",
        "\n",
        "    def forward(self, inputs, targets):\n",
        "        if self.logits:\n",
        "            BCE_loss = nn.CrossEntropyLoss(reduction='none')(inputs, targets)\n",
        "        else:\n",
        "            BCE_loss = nn.BCEWithLogitsLoss(reduction='none')(inputs, targets)\n",
        "\n",
        "        pt = torch.exp(-BCE_loss)\n",
        "        focal_loss = self.alpha * (1 - pt) ** self.gamma * BCE_loss\n",
        "\n",
        "        if self.reduce:\n",
        "            return torch.mean(focal_loss)\n",
        "        else:\n",
        "            return focal_loss\n",
        "\n",
        "focal_loss = FocalLoss()\n",
        "\n",
        "def phrases2classes(phrases: list, classes: list) -> list:\n",
        "    \"\"\"\n",
        "    Functions to get the classes from the output phrases of GD.\n",
        "    Example: 'female male' -> 'female'\n",
        "\n",
        "    Args:\n",
        "        - phrases: the output list of GD\n",
        "        - classes: the true classes in the image\n",
        "\n",
        "    Returns:\n",
        "        - final list of found classes by GD\n",
        "    \"\"\"\n",
        "\n",
        "    labels_str = []\n",
        "    for phrase in phrases:\n",
        "        for class_ in classes:\n",
        "            if class_ in phrase:\n",
        "                labels_str.append(class_)\n",
        "                break\n",
        "\n",
        "    return labels_str\n",
        "\n",
        "def perform_forward_pass(\n",
        "    net: nn.Module,\n",
        "    image_tensor: torch.tensor,\n",
        "    y_labels_str: list[str],\n",
        "    log: bool\n",
        ") -> tuple[list[str], torch.tensor, torch.tensor]:\n",
        "    \"\"\"\n",
        "    Function to perform a forward pass and process the outputs of GD.\n",
        "    Creates caption from y_labels_str.\n",
        "    Converts the phrases outputs to classes.\n",
        "    Converts the bbox from xywh to xyxy.\n",
        "\n",
        "    Args:\n",
        "        - net: the model to use\n",
        "        - image_tensor: the image in tensor format\n",
        "        - y_labels_str: the true string labels for a caption\n",
        "        - log: if the prints will be used\n",
        "\n",
        "    Returns:\n",
        "        - y_hat_labels_str: the output labels of GD\n",
        "        - y_hat_bboxes_xyxy: the output bboxes\n",
        "        - y_hat_logits_raw: the logits for each prediction\n",
        "    \"\"\"\n",
        "\n",
        "    caption = \". \".join(list(set(y_labels_str)))+'.'\n",
        "\n",
        "    y_hat_bboxes_xywh, y_hat_logits, y_hat_phrases, y_hat_logits_raw = net(image_tensor, caption)\n",
        "    y_hat_labels_str = phrases2classes(y_hat_phrases, y_labels_str)\n",
        "    y_hat_bboxes_xyxy = box_convert(boxes=y_hat_bboxes_xywh, in_fmt=\"cxcywh\", out_fmt=\"xyxy\")\n",
        "\n",
        "    if log:\n",
        "        print('PROVIDED CAPTION: {}'.format(caption))\n",
        "        print('y_hat_phrases = {}'.format(y_hat_phrases))\n",
        "        print('y_hat_labels_str = {}'.format(y_hat_labels_str))\n",
        "        # print('y_hat_bboxes_xywh = {}'.format(y_hat_bboxes_xywh))\n",
        "        print('y_hat_bboxes_xyxy = {}'.format(y_hat_bboxes_xyxy))\n",
        "        print('y_hat_logits = {}'.format(y_hat_logits))\n",
        "        # print('y_hat_logits_raw = {}'.format(y_hat_logits_raw))\n",
        "\n",
        "    return (\n",
        "        y_hat_labels_str,\n",
        "        y_hat_bboxes_xyxy,\n",
        "        y_hat_logits,\n",
        "        y_hat_logits_raw\n",
        "    )\n",
        "\n",
        "def link_predictions_to_true_labels(\n",
        "    y_labels_int_v2: torch.tensor,\n",
        "    y_labels_str_v2: list[str],\n",
        "    y_bboxes_xyxy_v2: torch.tensor,\n",
        "    y_hat_labels_str: list[str],\n",
        "    y_hat_bboxes_xyxy: torch.tensor,\n",
        "    y_hat_logits: torch.tensor,\n",
        "    y_hat_logits_raw: torch.tensor,\n",
        "    log: bool\n",
        ") -> tuple[torch.tensor, list[str], torch.tensor, list[str], torch.tensor, torch.tensor, int]:\n",
        "    \"\"\"\n",
        "    Function that links the GD outputs to the corresponding true labels.\n",
        "    This is done by looping through all the true labels of an image and calculating the IoU\n",
        "    for each output of GD. The highest IoU is then linked to the true label.\n",
        "\n",
        "    The GD outputs that are linked to true labels are tracked so no GD outputs are\n",
        "    linked multiple times.\n",
        "\n",
        "    Args:\n",
        "        - y values\n",
        "        - y_hat values\n",
        "        - log: if the prints will be used\n",
        "\n",
        "    Returns:\n",
        "        - y v2 values\n",
        "        - y_hat v2 values\n",
        "        - amount of classes that did not get linked to a true label\n",
        "    \"\"\"\n",
        "    final_y_order_list = []\n",
        "    final_y_hat_order_list = []\n",
        "\n",
        "    old_len_y_v2_str = len(y_labels_str_v2)\n",
        "\n",
        "    linked_GD_predictions = []\n",
        "\n",
        "    for idx, true in enumerate(y_labels_str_v2):\n",
        "        IoU_list = []\n",
        "        new_y_order_list = []\n",
        "        new_y_hat_order_list = []\n",
        "\n",
        "        for idx2, pred in enumerate(y_hat_labels_str):\n",
        "            IoU = calc_IoU(y_bboxes_xyxy_v2[idx], y_hat_bboxes_xyxy[idx2])\n",
        "\n",
        "            if idx2 not in linked_GD_predictions:\n",
        "                IoU_list.append(IoU)\n",
        "                new_y_order_list.append(idx)\n",
        "                new_y_hat_order_list.append(idx2)\n",
        "\n",
        "\n",
        "        if IoU_list != []:\n",
        "            IoU_list = np.array([i.item() for i in IoU_list])\n",
        "\n",
        "            argmax = np.argmax(IoU_list)\n",
        "\n",
        "            new_y_order = new_y_order_list[argmax]\n",
        "            final_y_order_list.append(new_y_order)\n",
        "\n",
        "            new_y_hat_order = new_y_hat_order_list[argmax]\n",
        "            final_y_hat_order_list.append(new_y_hat_order)\n",
        "            linked_GD_predictions.append(new_y_hat_order_list[argmax])\n",
        "\n",
        "    if final_y_order_list != []:\n",
        "        y_labels_int_v2 = torch.tensor([y_labels_int_v2[i] for i in final_y_order_list]).to(device)\n",
        "        y_labels_str_v2 = [y_labels_str_v2[i] for i in final_y_order_list]\n",
        "        y_bboxes_xyxy_v2 = y_bboxes_xyxy_v2.clone().index_select(0, torch.tensor(final_y_order_list)).to(device)\n",
        "    else:\n",
        "        y_labels_int_v2 = torch.tensor([])\n",
        "        y_labels_str_v2 = []\n",
        "        y_bboxes_xyxy_v2 = torch.tensor([])\n",
        "\n",
        "    if final_y_hat_order_list != []:\n",
        "        y_hat_labels_str_v2 = [y_hat_labels_str[i] for i in final_y_hat_order_list]\n",
        "        y_hat_bboxes_xyxy_v2 = y_hat_bboxes_xyxy.clone().index_select(0, torch.tensor(final_y_hat_order_list).to(device)).to(device)\n",
        "        y_hat_logits_v2 = y_hat_logits.clone().index_select(0, torch.tensor(final_y_hat_order_list).to(device)).to(device)\n",
        "        y_hat_logits_raw_v2 = y_hat_logits_raw.clone().index_select(0, torch.tensor(final_y_hat_order_list).to(device)).to(device)\n",
        "    else:\n",
        "        y_hat_labels_str_v2 = []\n",
        "        y_hat_bboxes_xyxy_v2 = torch.tensor([])\n",
        "        y_hat_logits_v2 = torch.tensor([])\n",
        "        y_hat_logits_raw_v2 = torch.tensor([])\n",
        "\n",
        "    count_not_found = old_len_y_v2_str - len(y_labels_str_v2)\n",
        "\n",
        "    if log:\n",
        "        # print('final_y_order_list = {}'.format(final_y_order_list))\n",
        "        # print('final_y_hat_order_list = {}'.format(final_y_hat_order_list))\n",
        "\n",
        "        print('[V2 VALUES]')\n",
        "        print('y_labels_str_v2 = {}'.format(y_labels_str_v2))\n",
        "        print('y_labels_int_v2 = {}'.format(y_labels_int_v2))\n",
        "        print('y_bboxes_xyxy_v2 = {}'.format(y_bboxes_xyxy_v2))\n",
        "\n",
        "        print('y_hat_labels_str_v2 = {}'.format(y_hat_labels_str_v2))\n",
        "        print('y_hat_bboxes_xyxy_v2 = {}'.format(y_hat_bboxes_xyxy_v2))\n",
        "        print('y_hat_logits_v2 = {}'.format(y_hat_logits_v2))\n",
        "        # print('y_hat_logits_raw_v2 = {}'.format(y_hat_logits_raw_v2))\n",
        "\n",
        "    return (\n",
        "        y_labels_int_v2,\n",
        "        y_labels_str_v2,\n",
        "        y_bboxes_xyxy_v2,\n",
        "        y_hat_labels_str_v2,\n",
        "        y_hat_bboxes_xyxy_v2,\n",
        "        y_hat_logits_v2,\n",
        "        y_hat_logits_raw_v2,\n",
        "        count_not_found\n",
        "    )\n",
        "\n",
        "def calculate_loss(\n",
        "    y_bboxes_xyxy_v2: torch.tensor,\n",
        "    y_labels_int_v2: torch.tensor,\n",
        "    y_hat_bboxes_xyxy_v2: torch.tensor,\n",
        "    y_hat_logits_v2: torch.tensor,\n",
        "    y_hat_logits_raw_v2: torch.tensor,\n",
        "    bbox_loss_coef: float,\n",
        "    GIoU_loss_coef: float,\n",
        "    focal_loss_coef: float,\n",
        "    log: bool,\n",
        ") -> torch.tensor:\n",
        "    \"\"\"\n",
        "    Function to calculate the loss. For the bboxes it uses the L1 and the GIoU loss. For classification it uses the focal loss,\n",
        "    the targets are a 1D tensor that are the true class labels as integers and the inputs are the raw logits outputs for each class by GD.\n",
        "\n",
        "    The losses are individually multiplied by loss coefficients and then summed\n",
        "\n",
        "    Args:\n",
        "        - y v2 values\n",
        "        - y_hat v2 values\n",
        "        - loss coefficients\n",
        "\n",
        "    Returns:\n",
        "        - Loss\n",
        "    \"\"\"\n",
        "    loss_box_L1 = L1_loss(y_hat_bboxes_xyxy_v2, y_bboxes_xyxy_v2)\n",
        "    loss_box_GIoU = generalized_box_iou_loss(y_hat_bboxes_xyxy_v2, y_bboxes_xyxy_v2, reduction='mean')\n",
        "    loss_box = (bbox_loss_coef*loss_box_L1 + GIoU_loss_coef*loss_box_GIoU)\n",
        "\n",
        "    loss_cls = focal_loss_coef*focal_loss(y_hat_logits_raw_v2, y_labels_int_v2)\n",
        "\n",
        "    loss = loss_box + loss_cls\n",
        "\n",
        "    if log:\n",
        "        print('loss_box_L1 = {}'.format(loss_box_L1))\n",
        "        print('loss_box_GIoU = {}'.format(loss_box_GIoU))\n",
        "        print('loss_box = {}'.format(loss_box))\n",
        "        print('loss_cls = {}'.format(loss_cls))\n",
        "        print('loss = {}\\n'.format(loss))\n",
        "\n",
        "    return loss\n",
        "\n",
        "def calc_batch_acc(y_labels_str_v2: list[str], y_hat_labels_str_v2: list[str]) -> float:\n",
        "    \"\"\"\n",
        "    Function to calculate the classification accuracy of the found matching bounding boxes.\n",
        "\n",
        "    Args:\n",
        "        - y string labels\n",
        "        - y_hat string labels\n",
        "\n",
        "    Returns:\n",
        "        - accuracy\n",
        "    \"\"\"\n",
        "\n",
        "    if not y_labels_str_v2:\n",
        "        return 0\n",
        "\n",
        "    correct_count = sum(1 for i, j in zip(y_labels_str_v2, y_hat_labels_str_v2) if i == j)\n",
        "\n",
        "    return correct_count / len(y_labels_str_v2)\n",
        "\n",
        "def preprocess_caption(caption: str) -> str:\n",
        "    \"\"\"\n",
        "    Function from groundingDINO that preprocesses the input prompt. It does so by stripping the prompt and adding a \".\" if necessary.\n",
        "\n",
        "    Args:\n",
        "        - caption: the input prompt to groundingDINO\n",
        "\n",
        "    Returns:\n",
        "        - preprocessed prompt\n",
        "    \"\"\"\n",
        "    result = caption.lower().strip()\n",
        "    if result.endswith(\".\"):\n",
        "        return result\n",
        "    return result + \".\""
      ]
    },
    {
      "cell_type": "markdown",
      "metadata": {
        "id": "nfc4m4smez8t"
      },
      "source": [
        "### Train function"
      ]
    },
    {
      "cell_type": "markdown",
      "source": [
        "Here the main train function is defined. These are the steps it takes:\n",
        "\n",
        "1. Loop through the train list in batch chunks\n",
        "2. Loop through each batch\n",
        "3. Process the batch element with process_data()\n",
        "4. Perform a forward pass with the custom GD model\n",
        "5. Link all the outputs of GD with the true labels based on the IoU of the boudning boxes with link_predictions_to_true_labels()\n",
        "6. Calculate the percentage of not gound objects by GD\n",
        "7. Calculate classifying accuracy of the found objects\n",
        "8. Calculate the bounding box MSE\n",
        "9. Track the not ound percentage, accuracy and MSE\n",
        "10. Calculate the loss with calculate_loss()\n",
        "11. Perform the weight update after loss.backward() is performed for each element in the batch\n",
        "12. Return the mean of the not found percentage, accuracy and MSE of all the batches\n",
        "\n",
        "Note that it is not possible to perform parallized computations on batches by creating an extra dimension in the input tensors. For example the images having shape (M, 3, H, W) with M the batch size. This is not possible for several reasons, the main one being that the input bounding box tensors vary in size, since images can have different amounts of classes, this would result in 'ragged' tensors.\n",
        "\n",
        "To train the model in batches loss.backward() is called for every element in the batch and after each batch optimizer.step() is called. This way all the gradient\n",
        "\n"
      ],
      "metadata": {
        "id": "_LXuTAdlE0x8"
      }
    },
    {
      "cell_type": "code",
      "execution_count": null,
      "metadata": {
        "id": "CCtx90PUeyZq"
      },
      "outputs": [],
      "source": [
        "def train(\n",
        "    train_data: list,\n",
        "    net: nn.Module,\n",
        "    optimizer: optim.Adam,\n",
        "    log: bool,\n",
        "    bbox_loss_coef: float=5,\n",
        "    GIoU_loss_coef: float=2,\n",
        "    focal_loss_coef: float=2\n",
        ") -> tuple[list]:\n",
        "\n",
        "    epoch_loss_list = []\n",
        "    epoch_acc_list = []\n",
        "    epoch_cls_not_found_per_list = []\n",
        "    epoch_bbox_MSE_list = []\n",
        "\n",
        "    for idx in range(0, len(train_data), batch_size):\n",
        "        batch = train_data[idx:idx+batch_size]\n",
        "\n",
        "        optimizer.zero_grad()\n",
        "\n",
        "        batch_loss_list = []\n",
        "        batch_acc_list = []\n",
        "        batch_cls_not_found_per_list = []\n",
        "        batch_bbox_MSE_list = []\n",
        "\n",
        "        for idx2, batch_element in enumerate(batch):\n",
        "            batch_count_cls_not_found = 0\n",
        "\n",
        "            image_tensor, y_labels_int, y_labels_str, y_bboxes_xyxy = process_data(batch_element, log)\n",
        "            y_hat_labels_str, y_hat_bboxes_xyxy, y_hat_logits, y_hat_logits_raw = perform_forward_pass(net, image_tensor, y_labels_str, log)\n",
        "\n",
        "            batch_true_cls_count = len(y_labels_str)\n",
        "\n",
        "            if y_hat_labels_str == []:\n",
        "                continue\n",
        "\n",
        "            y_labels_int_v2, y_labels_str_v2, y_bboxes_xyxy_v2, y_hat_labels_str_v2, y_hat_bboxes_xyxy_v2, y_hat_logits_v2, y_hat_logits_raw_v2, count_not_found = link_predictions_to_true_labels(\n",
        "                y_labels_int,\n",
        "                y_labels_str,\n",
        "                y_bboxes_xyxy,\n",
        "                y_hat_labels_str,\n",
        "                y_hat_bboxes_xyxy,\n",
        "                y_hat_logits,\n",
        "                y_hat_logits_raw,\n",
        "                log\n",
        "            )\n",
        "\n",
        "            batch_count_cls_not_found += count_not_found\n",
        "\n",
        "            if batch_true_cls_count != 0:\n",
        "                batch_cls_not_found_per_list.append(batch_count_cls_not_found/batch_true_cls_count)\n",
        "\n",
        "            batch_acc_list.append(calc_batch_acc(y_labels_str_v2, y_hat_labels_str_v2))\n",
        "            bbox_MSE = torch.mean((y_bboxes_xyxy_v2-y_hat_bboxes_xyxy_v2)**2)\n",
        "            if not torch.isnan(bbox_MSE):\n",
        "                batch_bbox_MSE_list.append(bbox_MSE.cpu().item())\n",
        "\n",
        "            if y_hat_labels_str_v2 == []:\n",
        "                continue\n",
        "\n",
        "            loss = calculate_loss(\n",
        "                y_bboxes_xyxy_v2,\n",
        "                y_labels_int_v2,\n",
        "                y_hat_bboxes_xyxy_v2,\n",
        "                y_hat_logits_v2,\n",
        "                y_hat_logits_raw_v2,\n",
        "                bbox_loss_coef,\n",
        "                GIoU_loss_coef,\n",
        "                focal_loss_coef,\n",
        "                log\n",
        "            )\n",
        "\n",
        "            if not torch.isnan(loss):\n",
        "                loss.backward()\n",
        "\n",
        "                batch_loss_list.append(loss.cpu().detach())\n",
        "\n",
        "                # if log:\n",
        "                #     print('MODEL PARAMETER GRADIENT CHECK: {}'.format(list(model.parameters())[-1].grad))\n",
        "\n",
        "\n",
        "        epoch_loss_list.append(np.mean(batch_loss_list))\n",
        "        epoch_acc_list.append(np.mean(batch_acc_list))\n",
        "        epoch_cls_not_found_per_list.append(np.mean(batch_cls_not_found_per_list))\n",
        "        epoch_bbox_MSE_list.append(np.mean(batch_bbox_MSE_list))\n",
        "\n",
        "\n",
        "        optimizer.step()\n",
        "        # print(\"\\rBATCH {} IN LOADER | LOSS: {}\".format(int(idx/batch_size)+1, loss.item()), end=\"\")\n",
        "\n",
        "\n",
        "    return (\n",
        "        np.mean(epoch_loss_list),\n",
        "        np.mean(epoch_acc_list),\n",
        "        np.mean(epoch_cls_not_found_per_list),\n",
        "        np.mean(epoch_bbox_MSE_list)\n",
        "    )"
      ]
    },
    {
      "cell_type": "markdown",
      "metadata": {
        "id": "pPVjLfkEyROt"
      },
      "source": [
        "### Validation helper functions"
      ]
    },
    {
      "cell_type": "markdown",
      "source": [
        "In this block the validation helper functions are defined. They consist of a sample_image_check(), which takes in a model, image path and text prompt and then performs a forward pass with the model and then returns the predictions of the model visualized in an image. And the second function is create_training_curves(), which takes in lists for all the mentioned metrics in the train() function for all the trained epochs and plots the curves of the metrics against the amount of epochs."
      ],
      "metadata": {
        "id": "xXevNYP8H65q"
      }
    },
    {
      "cell_type": "code",
      "execution_count": null,
      "metadata": {
        "id": "AQtUR1FTyUsL"
      },
      "outputs": [],
      "source": [
        "def sample_image_check(image: torch.tensor, image_source: torch.tensor, model: nn.Module = None, prompt: str = '', predict_bool: bool = True, input_data: None | tuple = None) -> None:\n",
        "    \"\"\"\n",
        "    Function that runs a single sample through a model or shows the true labels.\n",
        "    This is used to compare the model before and after training.\n",
        "\n",
        "    To show the true labels set predict_bool to False and provide the\n",
        "    bounding boxes, logits and phrases in the input_data parameter as a tuple.\n",
        "\n",
        "    To predict using a model provide a model and prompt.\n",
        "\n",
        "    In both cases the image in tensor format and image_source should be provided.\n",
        "    These are the outputs of the load_image function of GD.\n",
        "    \"\"\"\n",
        "\n",
        "    if predict_bool:\n",
        "        boxes, logits, phrases, _ = model(image.to(device), prompt)\n",
        "        annotated_frame = annotate(image_source=image_source, boxes=boxes.detach().cpu(), logits=logits.detach().cpu(), phrases=phrases)\n",
        "    elif not input_data is None:\n",
        "        boxes, logits, phrases = input_data\n",
        "        annotated_frame = annotate(image_source=image_source, boxes=boxes, logits=logits, phrases=phrases)\n",
        "    else:\n",
        "        print('Provide data or set predict to True')\n",
        "        return None\n",
        "\n",
        "    %matplotlib inline\n",
        "    sv.plot_image(annotated_frame, (6, 6))\n",
        "\n",
        "def create_training_curves(\n",
        "    train_loss: list,\n",
        "    train_acc: list,\n",
        "    train_cls_not_found:list,\n",
        "    train_bbox_MSE:list,\n",
        "    val_loss: list,\n",
        "    val_acc: list,\n",
        "    val_cls_not_found:list,\n",
        "    val_bbox_MSE:list\n",
        ") -> None:\n",
        "    \"\"\"\n",
        "    Functions to create training curves. Considering the loss, classifying accuracy, percentage of the clases that are not found by GD\n",
        "    and bounding box MSE. All data is plotted against the amount of epochs.\n",
        "\n",
        "    The functions itself returns None but show the plots.\n",
        "\n",
        "    Args:\n",
        "        - train data\n",
        "        - validation data\n",
        "    \"\"\"\n",
        "    plt.figure()\n",
        "    plt.plot(train_loss, label='train')\n",
        "    plt.plot(val_loss, label='val')\n",
        "    plt.xlabel('Epoch')\n",
        "    plt.ylabel('loss')\n",
        "    plt.title('Loss')\n",
        "    plt.legend()\n",
        "    plt.show()\n",
        "\n",
        "    plt.figure()\n",
        "    plt.plot(train_acc, label='train')\n",
        "    plt.plot(val_acc, label='val')\n",
        "    plt.xlabel('Epoch')\n",
        "    plt.ylabel('Accuracy')\n",
        "    plt.title('Accuracy')\n",
        "    plt.legend()\n",
        "    plt.show()\n",
        "\n",
        "    plt.figure()\n",
        "    plt.plot(train_cls_not_found, label='train')\n",
        "    plt.plot(val_cls_not_found, label='val')\n",
        "    plt.xlabel('Epoch')\n",
        "    plt.ylabel('Classes not found')\n",
        "    plt.title('Classes not found by GD')\n",
        "    plt.legend()\n",
        "    plt.show()\n",
        "\n",
        "    plt.figure()\n",
        "    plt.plot(train_bbox_MSE, label='train')\n",
        "    plt.plot(val_bbox_MSE, label='val')\n",
        "    plt.xlabel('Epoch')\n",
        "    plt.ylabel('MSE')\n",
        "    plt.title('BBOX MSE')\n",
        "    plt.legend()\n",
        "    plt.show()\n"
      ]
    },
    {
      "cell_type": "markdown",
      "metadata": {
        "id": "cu7vtqgMe5KB"
      },
      "source": [
        "### Validation function"
      ]
    },
    {
      "cell_type": "markdown",
      "source": [
        "The validation functions does the same as the main train function but with torch.no_grad() and it does not calculate the gradients and does not perform an optimizer step."
      ],
      "metadata": {
        "id": "H8a2b0HbJIA1"
      }
    },
    {
      "cell_type": "code",
      "execution_count": null,
      "metadata": {
        "id": "qJKg7Dqac0zk"
      },
      "outputs": [],
      "source": [
        "def val(\n",
        "    val_data: list,\n",
        "    net: nn.Module,\n",
        "    optimizer: optim.Adam,\n",
        "    log: bool,\n",
        "    bbox_loss_coef: float=5,\n",
        "    GIoU_loss_coef: float=2,\n",
        "    focal_loss_coef: float=2\n",
        ") -> tuple[list]:\n",
        "\n",
        "    epoch_loss_list = []\n",
        "    epoch_acc_list = []\n",
        "    epoch_cls_not_found_per_list = []\n",
        "    epoch_bbox_MSE_list = []\n",
        "\n",
        "    with torch.no_grad():\n",
        "        for idx in range(0, len(val_data), batch_size):\n",
        "            batch = val_data[idx:idx+batch_size]\n",
        "\n",
        "            batch_loss_list = []\n",
        "            batch_acc_list = []\n",
        "            batch_cls_not_found_per_list = []\n",
        "            batch_bbox_MSE_list = []\n",
        "\n",
        "            for idx2, batch_element in enumerate(batch):\n",
        "                batch_count_cls_not_found = 0\n",
        "\n",
        "                image_tensor, y_labels_int, y_labels_str, y_bboxes_xyxy = process_data(batch_element, log)\n",
        "                y_hat_labels_str, y_hat_bboxes_xyxy, y_hat_logits, y_hat_logits_raw = perform_forward_pass(net, image_tensor, y_labels_str, log)\n",
        "\n",
        "                batch_true_cls_count = len(y_labels_str)\n",
        "\n",
        "                if y_hat_labels_str == []:\n",
        "                    continue\n",
        "\n",
        "\n",
        "                y_labels_int_v2, y_labels_str_v2, y_bboxes_xyxy_v2, y_hat_labels_str_v2, y_hat_bboxes_xyxy_v2, y_hat_logits_v2, y_hat_logits_raw_v2, count_not_found = link_predictions_to_true_labels(\n",
        "                    y_labels_int,\n",
        "                    y_labels_str,\n",
        "                    y_bboxes_xyxy,\n",
        "                    y_hat_labels_str,\n",
        "                    y_hat_bboxes_xyxy,\n",
        "                    y_hat_logits,\n",
        "                    y_hat_logits_raw,\n",
        "                    log\n",
        "                )\n",
        "\n",
        "                batch_count_cls_not_found += count_not_found\n",
        "\n",
        "                batch_cls_not_found_per_list.append(batch_count_cls_not_found/batch_true_cls_count if batch_true_cls_count != 0 else 0)\n",
        "                batch_acc_list.append(calc_batch_acc(y_labels_str_v2, y_hat_labels_str_v2))\n",
        "                bbox_MSE = torch.mean((y_bboxes_xyxy_v2-y_hat_bboxes_xyxy_v2)**2)\n",
        "                if not torch.isnan(bbox_MSE):\n",
        "                    batch_bbox_MSE_list.append(bbox_MSE.cpu().item())\n",
        "\n",
        "                if y_hat_labels_str_v2 == []:\n",
        "                    continue\n",
        "\n",
        "                loss = calculate_loss(\n",
        "                    y_bboxes_xyxy_v2,\n",
        "                    y_labels_int_v2,\n",
        "                    y_hat_bboxes_xyxy_v2,\n",
        "                    y_hat_logits_v2,\n",
        "                    y_hat_logits_raw_v2,\n",
        "                    bbox_loss_coef,\n",
        "                    GIoU_loss_coef,\n",
        "                    focal_loss_coef,\n",
        "                    log\n",
        "                )\n",
        "\n",
        "                if not torch.isnan(loss):\n",
        "                    batch_loss_list.append(loss.cpu().detach())\n",
        "\n",
        "\n",
        "            epoch_loss_list.append(np.mean(batch_loss_list))\n",
        "            epoch_acc_list.append(np.mean(batch_acc_list))\n",
        "            epoch_cls_not_found_per_list.append(np.mean(batch_cls_not_found_per_list))\n",
        "            epoch_bbox_MSE_list.append(np.mean(batch_bbox_MSE_list))\n",
        "\n",
        "    return (\n",
        "        np.mean(epoch_loss_list),\n",
        "        np.mean(epoch_acc_list),\n",
        "        np.mean(epoch_cls_not_found_per_list),\n",
        "        np.mean(epoch_bbox_MSE_list)\n",
        "    )"
      ]
    },
    {
      "cell_type": "markdown",
      "metadata": {
        "id": "83jpa6CPc7t_"
      },
      "source": [
        "## **Grounding DINO Implementation**"
      ]
    },
    {
      "cell_type": "markdown",
      "source": [
        "In this block the Grounding DINO model is loaded into a PyTorch class to be able to modidfy the outputs of the network. Then the run fuction is defined and lastly the code for fine-tuning the model (with (un)freezing layers) and exporting the new parameters."
      ],
      "metadata": {
        "id": "mUApPyujJTCh"
      }
    },
    {
      "cell_type": "markdown",
      "metadata": {
        "id": "714TAmIhDgVO"
      },
      "source": [
        "### Custom model - Grounding DINO V2"
      ]
    },
    {
      "cell_type": "markdown",
      "source": [
        "This code blocks loads the Grounding DINO model into a PyTorch class. The basemodel_forward() functions consists mainly of code from the GD Github, it is modified slightly to also outut the raw logits of the network without an extra filter being applied."
      ],
      "metadata": {
        "id": "DYBAPok5J9Gj"
      }
    },
    {
      "cell_type": "code",
      "execution_count": null,
      "metadata": {
        "id": "33bX9zGCU4EU"
      },
      "outputs": [],
      "source": [
        "class GroundingDINOV2(nn.Module):\n",
        "    def __init__(self, box_threshold=0.35, text_threshold=0.25, WEIGHTS_PATH):\n",
        "        super(GroundingDINOV2, self).__init__()\n",
        "\n",
        "        self.box_threshold = box_threshold\n",
        "        self.text_threshold = text_threshold\n",
        "\n",
        "        self.basemodel = load_model(CONFIG_PATH, WEIGHTS_PATH)\n",
        "\n",
        "    def basemodel_forward(self, image, caption, remove_combined=False):\n",
        "        \"\"\"\n",
        "        This function is mainly from the GD Github and slightly modified to also output\n",
        "        the prediction_logits without the mask .max(dim=1)[0] being applied.\n",
        "\n",
        "        Args:\n",
        "            - image: an image in tensor format\n",
        "            - caption: classes in a string with each class ending with a '.'\n",
        "                Example 'dog.' or 'cat. dog. bird.'\n",
        "\n",
        "        Returns:\n",
        "            - bboxes: bounding boxes in cxcywh\n",
        "            - logits: probability of each class\n",
        "            - phrases: the found classes\n",
        "                'phrases' format is different from the 'labels' format since phrases sometimes contain\n",
        "                a combination of classes.\n",
        "                    Example: ['female male', 'dog', 'cat']\n",
        "                    'female male' being the combination\n",
        "            - logits_raw: the entire logits tensor for a class used for the classifying loss\n",
        "        \"\"\"\n",
        "        caption = preprocess_caption(caption)\n",
        "        outputs = self.basemodel(image[None], captions=[caption])\n",
        "\n",
        "        prediction_logits = outputs[\"pred_logits\"].sigmoid()[0]  # prediction_logits.shape = (nq, 256)\n",
        "        prediction_logits_no_sigmoid = outputs[\"pred_logits\"][0]  # prediction_logits.shape = (nq, 256)\n",
        "        prediction_boxes = outputs[\"pred_boxes\"][0]  # prediction_boxes.shape = (nq, 4)\n",
        "\n",
        "        mask = prediction_logits.max(dim=1)[0] > self.box_threshold\n",
        "        logits = prediction_logits[mask]  # logits.shape = (n, 256)\n",
        "        boxes = prediction_boxes[mask]  # boxes.shape = (n, 4)\n",
        "\n",
        "        logits_raw = prediction_logits[mask]\n",
        "\n",
        "        tokenizer = self.basemodel.tokenizer\n",
        "        tokenized = tokenizer(caption)\n",
        "\n",
        "        if remove_combined:\n",
        "            sep_idx = [i for i in range(len(tokenized['input_ids'])) if tokenized['input_ids'][i] in [101, 102, 1012]]\n",
        "\n",
        "            phrases = []\n",
        "            for logit in logits:\n",
        "                max_idx = logit.argmax()\n",
        "                insert_idx = bisect.bisect_left(sep_idx, max_idx)\n",
        "                right_idx = sep_idx[insert_idx]\n",
        "                left_idx = sep_idx[insert_idx - 1]\n",
        "                phrases.append(get_phrases_from_posmap(logit > self.text_threshold, tokenized, tokenizer, left_idx, right_idx).replace('.', ''))\n",
        "        else:\n",
        "            phrases = [\n",
        "                get_phrases_from_posmap(logit > self.text_threshold, tokenized, tokenizer).replace('.', '')\n",
        "                for logit\n",
        "                in logits\n",
        "            ]\n",
        "\n",
        "        return boxes, logits.max(dim=1)[0], phrases, logits_raw\n",
        "\n",
        "    def forward(self, image, caption):\n",
        "        \"\"\"\n",
        "        The forward function of the module. Also used met model(image, caption) is called.\n",
        "        The forward functoin sends the inputs to self.basemodel_forward and returns self.basemodel_forward's outpus\n",
        "\n",
        "        See self.basemodel_forward for a detailed arguments and returns explanation.\n",
        "        \"\"\"\n",
        "        return self.basemodel_forward(image, caption)"
      ]
    },
    {
      "cell_type": "markdown",
      "metadata": {
        "id": "SXSbtRGjEOH3"
      },
      "source": [
        "### Run Grounding DINO V2"
      ]
    },
    {
      "cell_type": "markdown",
      "source": [
        "This block contains the run() function and code to fine-tune GD."
      ],
      "metadata": {
        "id": "nJ1NlSMcOsHn"
      }
    },
    {
      "cell_type": "markdown",
      "metadata": {
        "id": "Ur0gjcGb7JWd"
      },
      "source": [
        "#### Run function"
      ]
    },
    {
      "cell_type": "markdown",
      "source": [
        "This function initializes the optimizer, creates all the lists for the training curves and runs the train() and val() functions for each epoch. The function also listens for a keyboard interrupt or other error, if this happens all the training curve data is returned."
      ],
      "metadata": {
        "id": "cDoATBObO5qT"
      }
    },
    {
      "cell_type": "code",
      "execution_count": null,
      "metadata": {
        "id": "a7vBxQ-ZGTpH"
      },
      "outputs": [],
      "source": [
        "def run(model, epochs, lr, lbda=0.0001, log=False):\n",
        "    optimizer = optim.Adam(model.parameters(), lr=lr, weight_decay=lbda)\n",
        "\n",
        "    epoch_count = 0\n",
        "\n",
        "    train_loss, train_acc, train_cls_not_found, train_bbox_MSE = [], [], [], []\n",
        "    val_loss, val_acc, val_cls_not_found, val_bbox_MSE = [], [], [], []\n",
        "\n",
        "    print('\\n[STARTING EPOCH LOOP]')\n",
        "    print('Learning rate: {}'.format(lr))\n",
        "    print('Amount of epochs: {}\\n'.format(epochs))\n",
        "\n",
        "    try:\n",
        "        for epoch in range(epochs):\n",
        "            model.train()\n",
        "            epoch_loss_train, epoch_acc_train, epoch_cls_not_fount_train, epoch_bbox_MSE_train = train(data['train'], model, optimizer, log)\n",
        "\n",
        "            model.eval()\n",
        "            epoch_loss_val, epoch_acc_val, epoch_cls_not_fount_val, epoch_bbox_MSE_val = val(data['valid'], model, optimizer, False)\n",
        "\n",
        "            train_loss.append(epoch_loss_train)\n",
        "            train_acc.append(epoch_acc_train)\n",
        "            train_cls_not_found.append(epoch_cls_not_fount_train)\n",
        "            train_bbox_MSE.append(epoch_bbox_MSE_train)\n",
        "\n",
        "            val_loss.append(epoch_loss_val)\n",
        "            val_acc.append(epoch_acc_val)\n",
        "            val_cls_not_found.append(epoch_cls_not_fount_val)\n",
        "            val_bbox_MSE.append(epoch_bbox_MSE_val)\n",
        "\n",
        "            epoch_count += 1\n",
        "\n",
        "            print(\"\\rEPOCH: {} | TRAIN LOSS: {} | VAL LOSS: {}\".format(epoch+1, epoch_loss_train, epoch_loss_val), end=\"\")\n",
        "    except KeyboardInterrupt:\n",
        "        pass\n",
        "    except Exception as e:\n",
        "        print(e)\n",
        "    finally:\n",
        "        return (\n",
        "            train_loss,\n",
        "            train_acc,\n",
        "            train_cls_not_found,\n",
        "            train_bbox_MSE,\n",
        "            val_loss,\n",
        "            val_acc,\n",
        "            val_cls_not_found,\n",
        "            val_bbox_MSE\n",
        "        )"
      ]
    },
    {
      "cell_type": "markdown",
      "metadata": {
        "id": "IRnVODXp7P1B"
      },
      "source": [
        "#### Run model"
      ]
    },
    {
      "cell_type": "markdown",
      "source": [
        "This block contains the code to fine-tune the model. First all the gradients of the parameters are disabled. Then only for specific layers gradients are instantiated. This is done by modifying the requires_grad parameter of a model parameter. After unfeezing certain layers the model is run for a chosen amount of epochs and learning rate. When the training is done the training curves are plotted and all the parameters are compared with the initial parameters to check if the parameters have really been changed.\n",
        "\n",
        "The measure the performance of the fine-tuned model the classifying accuracy, bounding box MSE and percentage of classes not found are used.\n",
        "\n",
        "Under 'FREEZE AND UNFREEZE LAYERS' the code can be modified to choose which layers should be updated.\n",
        "\n",
        "To show the model structure 'print(model)' can be used. To get specific layer names the following code can be used.:\n",
        "\n",
        "for idx, (name, param) in enumerate(model.named_parameters()):\n",
        "    param.requires_grad = True\n",
        "\n",
        "Under 'FINE-TUNE MODEL' the amount of epochs and learning rate can be set."
      ],
      "metadata": {
        "id": "-l8329CZQSPW"
      }
    },
    {
      "cell_type": "code",
      "execution_count": null,
      "metadata": {
        "colab": {
          "base_uri": "https://localhost:8080/",
          "height": 1000
        },
        "id": "bmlIqnthvesR",
        "outputId": "66a4d9d9-0028-4851-9148-033f8d326bc4"
      },
      "outputs": [
        {
          "output_type": "stream",
          "name": "stdout",
          "text": [
            "final text_encoder_type: bert-base-uncased\n",
            "[FREEZE AND UNFREEZE LAYERS]\n",
            "basemodel.transformer.decoder.layers.0.linear1.weight - Grad: True\n",
            "basemodel.transformer.decoder.layers.0.linear1.bias - Grad: True\n",
            "basemodel.transformer.decoder.layers.0.linear2.weight - Grad: True\n",
            "basemodel.transformer.decoder.layers.0.linear2.bias - Grad: True\n",
            "basemodel.transformer.decoder.layers.1.linear1.weight - Grad: True\n",
            "basemodel.transformer.decoder.layers.1.linear1.bias - Grad: True\n",
            "basemodel.transformer.decoder.layers.1.linear2.weight - Grad: True\n",
            "basemodel.transformer.decoder.layers.1.linear2.bias - Grad: True\n",
            "basemodel.transformer.decoder.layers.2.linear1.weight - Grad: True\n",
            "basemodel.transformer.decoder.layers.2.linear1.bias - Grad: True\n",
            "basemodel.transformer.decoder.layers.2.linear2.weight - Grad: True\n",
            "basemodel.transformer.decoder.layers.2.linear2.bias - Grad: True\n",
            "basemodel.transformer.decoder.layers.3.linear1.weight - Grad: True\n",
            "basemodel.transformer.decoder.layers.3.linear1.bias - Grad: True\n",
            "basemodel.transformer.decoder.layers.3.linear2.weight - Grad: True\n",
            "basemodel.transformer.decoder.layers.3.linear2.bias - Grad: True\n",
            "basemodel.transformer.decoder.layers.4.linear1.weight - Grad: True\n",
            "basemodel.transformer.decoder.layers.4.linear1.bias - Grad: True\n",
            "basemodel.transformer.decoder.layers.4.linear2.weight - Grad: True\n",
            "basemodel.transformer.decoder.layers.4.linear2.bias - Grad: True\n",
            "basemodel.transformer.decoder.layers.5.linear1.weight - Grad: True\n",
            "basemodel.transformer.decoder.layers.5.linear1.bias - Grad: True\n",
            "basemodel.transformer.decoder.layers.5.linear2.weight - Grad: True\n",
            "basemodel.transformer.decoder.layers.5.linear2.bias - Grad: True\n",
            "[FINE-TUNE MODEL]\n",
            "\n",
            "[STARTING EPOCH LOOP]\n",
            "Learning rate: 0.0001\n",
            "Amount of epochs: 3\n",
            "\n",
            "EPOCH: 3 | TRAIN LOSS: 12.270281791687012 | VAL LOSS: 12.270492553710938\n",
            "train_loss = [12.318193, 12.311587, 12.270282]\n",
            "train_acc = [0.7071428571428572, 0.7258448540706604, 0.7009657535950639]\n",
            "train_cls_not_found = [0.23280899208318562, 0.24558617905392097, 0.24529437357023565]\n",
            "train_bbox_MSE = [0.023326699191667074, 0.024595785131080652, 0.02147102142678642]\n",
            "val_loss = [12.265261, 12.270645, 12.270493]\n",
            "val_acc = [0.765922619047619, 0.7700892857142858, 0.7700892857142858]\n",
            "val_cls_not_found = [0.16045673076923078, 0.1674011752136752, 0.1674011752136752]\n",
            "val_bbox_MSE = [0.021683060458599357, 0.021129373924566153, 0.021122758970705036]\n"
          ]
        },
        {
          "output_type": "display_data",
          "data": {
            "text/plain": [
              "<Figure size 640x480 with 1 Axes>"
            ],
            "image/png": "[encoded data removed]"
          },
          "metadata": {}
        },
        {
          "output_type": "display_data",
          "data": {
            "text/plain": [
              "<Figure size 640x480 with 1 Axes>"
            ],
            "image/png": "[encoded data removed]"
          },
          "metadata": {}
        },
        {
          "output_type": "display_data",
          "data": {
            "text/plain": [
              "<Figure size 640x480 with 1 Axes>"
            ],
            "image/png": "[encoded data removed]"
          },
          "metadata": {}
        },
        {
          "output_type": "display_data",
          "data": {
            "text/plain": [
              "<Figure size 640x480 with 1 Axes>"
            ],
            "image/png": "[encoded data removed]"
          },
          "metadata": {}
        },
        {
          "output_type": "stream",
          "name": "stdout",
          "text": [
            "\n",
            "[COMPARING PARAMETERS]\n",
            "basemodel.transformer.decoder.layers.0.linear1.weight | Update = True\n",
            "basemodel.transformer.decoder.layers.0.linear1.bias | Update = True\n",
            "basemodel.transformer.decoder.layers.0.linear2.weight | Update = True\n",
            "basemodel.transformer.decoder.layers.0.linear2.bias | Update = True\n",
            "basemodel.transformer.decoder.layers.1.linear1.weight | Update = True\n",
            "basemodel.transformer.decoder.layers.1.linear1.bias | Update = True\n",
            "basemodel.transformer.decoder.layers.1.linear2.weight | Update = True\n",
            "basemodel.transformer.decoder.layers.1.linear2.bias | Update = True\n",
            "basemodel.transformer.decoder.layers.2.linear1.weight | Update = True\n",
            "basemodel.transformer.decoder.layers.2.linear1.bias | Update = True\n",
            "basemodel.transformer.decoder.layers.2.linear2.weight | Update = True\n",
            "basemodel.transformer.decoder.layers.2.linear2.bias | Update = True\n",
            "basemodel.transformer.decoder.layers.3.linear1.weight | Update = True\n",
            "basemodel.transformer.decoder.layers.3.linear1.bias | Update = True\n",
            "basemodel.transformer.decoder.layers.3.linear2.weight | Update = True\n",
            "basemodel.transformer.decoder.layers.3.linear2.bias | Update = True\n",
            "basemodel.transformer.decoder.layers.4.linear1.weight | Update = True\n",
            "basemodel.transformer.decoder.layers.4.linear1.bias | Update = True\n",
            "basemodel.transformer.decoder.layers.4.linear2.weight | Update = True\n",
            "basemodel.transformer.decoder.layers.4.linear2.bias | Update = True\n",
            "basemodel.transformer.decoder.layers.5.linear1.weight | Update = True\n",
            "basemodel.transformer.decoder.layers.5.linear1.bias | Update = True\n",
            "basemodel.transformer.decoder.layers.5.linear2.weight | Update = True\n",
            "basemodel.transformer.decoder.layers.5.linear2.bias | Update = True\n"
          ]
        }
      ],
      "source": [
        "model = GroundingDINOV2()\n",
        "model = model.to(device)\n",
        "\n",
        "# ----------------------------------\n",
        "# |   FREEZE AND UNFREEZE LAYERS   |\n",
        "# ----------------------------------\n",
        "\n",
        "print('[FREEZE AND UNFREEZE LAYERS]')\n",
        "\n",
        "for param in model.parameters():\n",
        "    param.requires_grad = False\n",
        "\n",
        "# ------------------------------------------------------------------------------------------\n",
        "# Change these lines to enable gradients in specific layers'\n",
        "\n",
        "# Default is all the 'linear' layers in the decoder block\n",
        "\n",
        "for idx, (name, param) in enumerate(model.basemodel.transformer.decoder.named_parameters()):\n",
        "    if 'linear' in name:\n",
        "        param.requires_grad = True\n",
        "\n",
        "\n",
        "# -------------------------------------------------------------------------------------------\n",
        "\n",
        "params_to_be_updated = []\n",
        "\n",
        "for name, param in model.named_parameters():\n",
        "    if param.requires_grad:\n",
        "        print('{} - Grad: {}'.format(name, param.requires_grad))\n",
        "        params_to_be_updated.append(param.clone())\n",
        "\n",
        "# -----------------------------\n",
        "# |      FINE-TUNE MODEL      |\n",
        "# -----------------------------\n",
        "\n",
        "print('[FINE-TUNE MODEL]')\n",
        "\n",
        "# -----------------------------------------------------------------\n",
        "# Change the epoch amount and learning rate\n",
        "\n",
        "epochs = 3\n",
        "lr = 1e-4\n",
        "\n",
        "# -----------------------------------------------------------------\n",
        "\n",
        "training_curves_data = run(model, epochs, lr, log=False)\n",
        "\n",
        "print('')\n",
        "for i,j in zip(training_curves_data, ['train_loss', 'train_acc', 'train_cls_not_found', 'train_bbox_MSE', 'val_loss', 'val_acc', 'val_cls_not_found', 'val_bbox_MSE']):\n",
        "    print('{} = {}'.format(j, i))\n",
        "\n",
        "train_loss, train_acc, train_cls_not_found, train_bbox_MSE, val_loss, val_acc, val_cls_not_found, val_bbox_MSE = training_curves_data\n",
        "\n",
        "create_training_curves(train_loss, train_acc, train_cls_not_found, train_bbox_MSE, val_loss, val_acc, val_cls_not_found, val_bbox_MSE)\n",
        "\n",
        "# --------------------------\n",
        "# |   COMPARE PARAMETERS   |\n",
        "# --------------------------\n",
        "\n",
        "print('\\n[COMPARING PARAMETERS]')\n",
        "\n",
        "new_params = []\n",
        "\n",
        "for name, param in model.named_parameters():\n",
        "    if param.requires_grad:\n",
        "        new_params.append((name, param.clone()))\n",
        "\n",
        "for old,new in zip(params_to_be_updated, new_params):\n",
        "    update = not torch.allclose(old,new[1])\n",
        "    if update:\n",
        "        print('{} | Update = {}'.format(new[0], update))"
      ]
    },
    {
      "cell_type": "markdown",
      "source": [
        "### Evaluate model on test set"
      ],
      "metadata": {
        "id": "vZ1fWbk4fQkB"
      }
    },
    {
      "cell_type": "markdown",
      "source": [
        "In this code block the val() function is used to evaluate the model on the test set. This should only be done when fine-tuning is complete for a final generalized performance measure."
      ],
      "metadata": {
        "id": "rCOJhRpKyXES"
      }
    },
    {
      "cell_type": "code",
      "source": [
        "lbda = 0.0001\n",
        "optimizer = optim.Adam(model.parameters(), lr=lr, weight_decay=lbda)\n",
        "epoch_loss_test, epoch_acc_test, epoch_cls_not_fount_test, epoch_bbox_MSE_test = val(data['test'], model, optimizer, False)\n",
        "\n",
        "print('[TEST RESULTS]\\n Loss: {}\\nAccuracy: {}\\nAmount of classes not found: {}\\nBBOX MSE: {}'.format(epoch_loss_test, epoch_acc_test, epoch_cls_not_fount_test, epoch_bbox_MSE_test))"
      ],
      "metadata": {
        "id": "sy0YMB6efTUX"
      },
      "execution_count": null,
      "outputs": []
    },
    {
      "cell_type": "markdown",
      "source": [
        "### Export model parameters"
      ],
      "metadata": {
        "id": "aTJbjfzJRZcx"
      }
    },
    {
      "cell_type": "markdown",
      "source": [
        "This code is used to export the parameters of GD V2 after fine-tuning.\n",
        "\n",
        "The total parameter size of GD is around 600mb. So the code is commented and does not accidentally run."
      ],
      "metadata": {
        "id": "kBlFl5fIRdWm"
      }
    },
    {
      "cell_type": "code",
      "execution_count": null,
      "metadata": {
        "id": "-NMDromKUoqd"
      },
      "outputs": [],
      "source": [
        "# Download model parameters\n",
        "\n",
        "# filename = '/content/drive/MyDrive/Delft/model_parameters.pth'\n",
        "# torch.save(model.cpu().state_dict(), filename)"
      ]
    },
    {
      "cell_type": "markdown",
      "metadata": {
        "id": "kcVReZXZ8SmF"
      },
      "source": [
        "## Manual tests"
      ]
    },
    {
      "cell_type": "markdown",
      "source": [
        "This code block is used to run some samples through the Grounding DINO and Grounding DINO V2 models and manually check for improvement. Also the true labels are shown in an image to be able to compare the models.\n",
        "\n",
        "First the data is loaded in a list with the image_source output of the load_image function of GD.\n",
        "\n",
        "Change i in line 3 in de second block: d = data_manual[i], for different images"
      ],
      "metadata": {
        "id": "5ZteSzogRi9v"
      }
    },
    {
      "cell_type": "code",
      "source": [
        "n_images = 10\n",
        "\n",
        "data_manual = []\n",
        "\n",
        "directory_images = data_directory+dataset+'/images'\n",
        "directory_labels = data_directory+dataset+'/labels'\n",
        "\n",
        "files_images = os.listdir(directory_images)\n",
        "files_labels = os.listdir(directory_labels)\n",
        "\n",
        "for idx, label in enumerate(files_labels[:10]):\n",
        "    img_label = label[:-4]\n",
        "    img = directory_images+'/'+img_label+'.jpg'\n",
        "    image_source, img = load_image(img)\n",
        "\n",
        "    f = open(directory_labels+'/'+label)\n",
        "    f = [i.split(' ') for i in  f.read().split('\\n')]\n",
        "    f = [[float(j) for j in i] for i in f]\n",
        "\n",
        "    y_labels_int = torch.LongTensor([i[0] for i in f])\n",
        "    y_bboxes = torch.tensor([i[1:] for i in f])\n",
        "\n",
        "    data_manual.append((image_source, img, y_labels_int, y_bboxes))"
      ],
      "metadata": {
        "id": "RmOIvzNio21k"
      },
      "execution_count": null,
      "outputs": []
    },
    {
      "cell_type": "code",
      "source": [
        "print('[TRUE LABELS]')\n",
        "\n",
        "d = data_manual[2]\n",
        "\n",
        "phrases = [classes[i] for i in d[2]]\n",
        "logits = [1]*len(phrases)\n",
        "bboxes = d[3]\n",
        "\n",
        "inputs = (bboxes, logits, phrases)\n",
        "\n",
        "sample_image_check(image=d[1], image_source=d[0], predict_bool=False, input_data=inputs)\n",
        "\n",
        "print('[GD V2]')\n",
        "\n",
        "prompt = \". \".join(list(set([classes[i] for i in d[2]])))+'.'\n",
        "\n",
        "sample_image_check(image=d[1], image_source = d[0], model=model, prompt=prompt)\n",
        "\n",
        "untrained_model = GroundingDINOV2()\n",
        "untrained_model.to(device)\n",
        "\n",
        "print('[GD NOT FINE-TUNED]')\n",
        "\n",
        "sample_image_check(image=d[1], image_source = d[0], model=untrained_model, prompt=prompt)"
      ],
      "metadata": {
        "id": "mrQ3k9gdpMBr"
      },
      "execution_count": null,
      "outputs": []
    }
  ],
  "metadata": {
    "accelerator": "GPU",
    "colab": {
      "collapsed_sections": [
        "b-oKwllfHgoA",
        "6-onp0zmeW2R",
        "MT1ZWFrXRuWt",
        "-kJt4Uk1SEVU",
        "ozB_9_8sSS-j",
        "z20xjZ1yTc-L",
        "nfc4m4smez8t",
        "pPVjLfkEyROt",
        "cu7vtqgMe5KB",
        "714TAmIhDgVO",
        "Ur0gjcGb7JWd",
        "vZ1fWbk4fQkB",
        "aTJbjfzJRZcx",
        "kcVReZXZ8SmF"
      ],
      "provenance": [],
      "gpuType": "T4"
    },
    "kernelspec": {
      "display_name": "Python 3",
      "name": "python3"
    },
    "language_info": {
      "name": "python"
    }
  },
  "nbformat": 4,
  "nbformat_minor": 0
}